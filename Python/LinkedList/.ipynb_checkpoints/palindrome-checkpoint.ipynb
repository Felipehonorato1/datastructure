{
 "cells": [
  {
   "cell_type": "markdown",
   "metadata": {},
   "source": [
    "Implement a function to check if a linked list is a palindrome.\n"
   ]
  },
  {
   "cell_type": "code",
   "execution_count": 1,
   "metadata": {},
   "outputs": [],
   "source": [
    "class LinkedList:\n",
    "    def __init__(self, value):\n",
    "        self.next = None\n",
    "        self.value = value\n",
    "    "
   ]
  },
  {
   "cell_type": "code",
   "execution_count": 3,
   "metadata": {},
   "outputs": [],
   "source": [
    "root = LinkedList('O')\n",
    "root.next = LinkedList('V')\n",
    "root.next.next = LinkedList('O')"
   ]
  },
  {
   "cell_type": "code",
   "execution_count": 4,
   "metadata": {},
   "outputs": [],
   "source": [
    "def print_list(root):\n",
    "    while root is not None:\n",
    "        print(root.value)\n",
    "        root = root.next"
   ]
  },
  {
   "cell_type": "code",
   "execution_count": 11,
   "metadata": {},
   "outputs": [],
   "source": [
    "def length(root):\n",
    "    length = 0\n",
    "    while(root is not None):\n",
    "        length +=1\n",
    "        root = root.next\n",
    "    return length\n",
    "    \n",
    "def check_palindrome(root):\n",
    "    len_string = length(root)\n",
    "    if(len_string%2 == 0):\n",
    "        k = len_string / 2\n",
    "        \n",
    "    else:\n",
    "        k = (len_string // 2 ) + 1\n",
    "    \n",
    "    second_runner = root\n",
    "    first_runner = root\n",
    "    counter = 1\n",
    "    while counter <= k:\n",
    "        counter+=1 \n",
    "        second_runner = second_runner.next\n",
    "    \n",
    "    while second_runner is not None:\n",
    "        if second_runner.value != first_runner.value:\n",
    "            return False\n",
    "    \n",
    "        second_runner = second_runner.next \n",
    "        first_runner = first_runner.next\n",
    "        \n",
    "    \n",
    "    return True\n",
    "        \n",
    "        \n",
    "        "
   ]
  },
  {
   "cell_type": "code",
   "execution_count": 12,
   "metadata": {},
   "outputs": [
    {
     "data": {
      "text/plain": [
       "True"
      ]
     },
     "execution_count": 12,
     "metadata": {},
     "output_type": "execute_result"
    }
   ],
   "source": [
    "check_palindrome(root)"
   ]
  },
  {
   "cell_type": "code",
   "execution_count": null,
   "metadata": {},
   "outputs": [],
   "source": []
  }
 ],
 "metadata": {
  "kernelspec": {
   "display_name": "Python 3",
   "language": "python",
   "name": "python3"
  },
  "language_info": {
   "codemirror_mode": {
    "name": "ipython",
    "version": 3
   },
   "file_extension": ".py",
   "mimetype": "text/x-python",
   "name": "python",
   "nbconvert_exporter": "python",
   "pygments_lexer": "ipython3",
   "version": "3.7.4"
  }
 },
 "nbformat": 4,
 "nbformat_minor": 2
}
