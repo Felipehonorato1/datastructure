{
 "cells": [
  {
   "cell_type": "code",
   "execution_count": 1,
   "metadata": {},
   "outputs": [],
   "source": [
    "# Write code to remove duplicates from an unsorted linked list"
   ]
  },
  {
   "cell_type": "code",
   "execution_count": 57,
   "metadata": {},
   "outputs": [],
   "source": [
    "class Node:\n",
    "    def __init__(self, value):\n",
    "        self.info = value\n",
    "        self.next = None\n",
    "\n",
    "class LinkedList:\n",
    "    def __init__(self, head):\n",
    "        self.head = head\n",
    "    \n",
    "    def insert_node(self, value):\n",
    "        n = self.head\n",
    "        while(n.next is not None):\n",
    "            n = n.next  \n",
    "            \n",
    "        n.next = Node(value)\n",
    "        \n",
    "    def print_list(self):\n",
    "        n = self.head\n",
    "        while(n is not None):\n",
    "            print(n.info)\n",
    "            n = n.next\n",
    "    \n",
    "    def remove_dupes_no_buffer(self):\n",
    "        n = self.head\n",
    "\n",
    "        while(n is not None):\n",
    "            runner = n\n",
    "            while(runner.next is not None):\n",
    "                \n",
    "                if(runner.next.info == n.info):\n",
    "                    runner.next = runner.next.next\n",
    "                    # Meaning that its duplicated\n",
    "                else:\n",
    "                    runner = runner.next\n",
    "                    \n",
    "            n = n.next\n",
    "        \n",
    "    def remove_dupes(self):\n",
    "        hashtable = []\n",
    "        n = self.head\n",
    "        prev = None\n",
    "        \n",
    "        while(n is not None):\n",
    "            \n",
    "            if(n.info not in hashtable):\n",
    "                hashtable.append(n.info)\n",
    "            else:\n",
    "                prev.next = n.next\n",
    "                \n",
    "            prev = n\n",
    "            n = n.next\n",
    "            \n",
    "                \n",
    "        "
   ]
  },
  {
   "cell_type": "code",
   "execution_count": 58,
   "metadata": {},
   "outputs": [],
   "source": [
    "head = Node(1)\n",
    "llist = LinkedList(head)"
   ]
  },
  {
   "cell_type": "code",
   "execution_count": 59,
   "metadata": {},
   "outputs": [],
   "source": [
    "llist.insert_node(2)\n",
    "llist.insert_node(3)\n",
    "llist.insert_node(4)\n",
    "llist.insert_node(2)"
   ]
  },
  {
   "cell_type": "code",
   "execution_count": 60,
   "metadata": {},
   "outputs": [
    {
     "name": "stdout",
     "output_type": "stream",
     "text": [
      "1\n",
      "2\n",
      "3\n",
      "4\n",
      "2\n"
     ]
    }
   ],
   "source": [
    "llist.print_list()"
   ]
  },
  {
   "cell_type": "code",
   "execution_count": 61,
   "metadata": {},
   "outputs": [],
   "source": [
    "llist.remove_dupes_no_buffer()"
   ]
  },
  {
   "cell_type": "code",
   "execution_count": 62,
   "metadata": {},
   "outputs": [
    {
     "name": "stdout",
     "output_type": "stream",
     "text": [
      "1\n",
      "2\n",
      "3\n",
      "4\n"
     ]
    }
   ],
   "source": [
    "llist.print_list()"
   ]
  },
  {
   "cell_type": "code",
   "execution_count": null,
   "metadata": {},
   "outputs": [],
   "source": []
  }
 ],
 "metadata": {
  "kernelspec": {
   "display_name": "Python 3",
   "language": "python",
   "name": "python3"
  },
  "language_info": {
   "codemirror_mode": {
    "name": "ipython",
    "version": 3
   },
   "file_extension": ".py",
   "mimetype": "text/x-python",
   "name": "python",
   "nbconvert_exporter": "python",
   "pygments_lexer": "ipython3",
   "version": "3.7.4"
  }
 },
 "nbformat": 4,
 "nbformat_minor": 2
}
