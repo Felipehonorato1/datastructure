{
 "cells": [
  {
   "cell_type": "markdown",
   "metadata": {},
   "source": [
    "Write code to partition a linked list around a value x, such that all nodes less than x come before all nodes greater than or equal to x. If x is contained within the list, the values of x only need to be after the elements less than x. The partition element x can appear anywhere in the \"right partition\"; it does not need to appear between the left and right partitions."
   ]
  },
  {
   "cell_type": "code",
   "execution_count": 25,
   "metadata": {},
   "outputs": [],
   "source": [
    "class Node:\n",
    "    def __init__(self, value):\n",
    "        self.value = value\n",
    "        self.next = None\n",
    "    \n",
    "    def insert(self, value):\n",
    "        while(self.next is not None):\n",
    "            self = self.next\n",
    "        \n",
    "        self.next = Node(value)\n",
    "        \n",
    "class Stack:\n",
    "    def __init__(self):\n",
    "        self.head = None\n",
    "        pass\n",
    "        \n",
    "    def push(self, value):\n",
    "        if self.is_empty():\n",
    "            self.head = Node(value)\n",
    "        else: \n",
    "            new_node = Node(value)\n",
    "            new_node.next = self.head\n",
    "            self.head = new_node\n",
    "\n",
    "    def pop(self):\n",
    "        pop_node = self.head\n",
    "        self.head = self.head.next \n",
    "        return pop_node.value\n",
    "        \n",
    "    def is_empty(self):\n",
    "        return self.head is None"
   ]
  },
  {
   "cell_type": "code",
   "execution_count": 26,
   "metadata": {},
   "outputs": [],
   "source": [
    "def print_list(head):\n",
    "    while(head is not None):\n",
    "        print(head.value)\n",
    "        head = head.next"
   ]
  },
  {
   "cell_type": "code",
   "execution_count": 27,
   "metadata": {},
   "outputs": [],
   "source": [
    "root = Node(3)"
   ]
  },
  {
   "cell_type": "code",
   "execution_count": 28,
   "metadata": {},
   "outputs": [],
   "source": [
    "root.insert(5)\n",
    "root.insert(8)\n",
    "root.insert(5)\n",
    "root.insert(10)\n",
    "root.insert(2)\n",
    "root.insert(1)"
   ]
  },
  {
   "cell_type": "code",
   "execution_count": 29,
   "metadata": {},
   "outputs": [
    {
     "name": "stdout",
     "output_type": "stream",
     "text": [
      "3\n",
      "5\n",
      "8\n",
      "5\n",
      "10\n",
      "2\n",
      "1\n"
     ]
    }
   ],
   "source": [
    "print_list(root)"
   ]
  },
  {
   "cell_type": "code",
   "execution_count": 34,
   "metadata": {},
   "outputs": [],
   "source": [
    "def partition(root_node, k):\n",
    "    stack = Stack()\n",
    "    llist_is_defined = False\n",
    "    while root_node is not None:\n",
    "        if root_node.value >= k:\n",
    "            stack.push(root_node.value)\n",
    "        else:\n",
    "            if not llist_is_defined:\n",
    "                root = Node(root_node.value)\n",
    "                llist_is_defined = True\n",
    "            else:\n",
    "                root.insert(root_node.value)\n",
    "        \n",
    "        root_node = root_node.next\n",
    "            \n",
    "    # Dump stack into list\n",
    "    while(not stack.is_empty()):\n",
    "        root.insert(stack.pop())\n",
    "    \n",
    "    return root\n",
    "            "
   ]
  },
  {
   "cell_type": "code",
   "execution_count": 35,
   "metadata": {},
   "outputs": [
    {
     "name": "stdout",
     "output_type": "stream",
     "text": [
      "3\n",
      "2\n",
      "1\n",
      "10\n",
      "5\n",
      "8\n",
      "5\n"
     ]
    }
   ],
   "source": [
    "print_list(partition(root, 5))"
   ]
  }
 ],
 "metadata": {
  "kernelspec": {
   "display_name": "Python 3",
   "language": "python",
   "name": "python3"
  },
  "language_info": {
   "codemirror_mode": {
    "name": "ipython",
    "version": 3
   },
   "file_extension": ".py",
   "mimetype": "text/x-python",
   "name": "python",
   "nbconvert_exporter": "python",
   "pygments_lexer": "ipython3",
   "version": "3.7.4"
  }
 },
 "nbformat": 4,
 "nbformat_minor": 2
}
