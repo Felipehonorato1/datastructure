{
 "cells": [
  {
   "cell_type": "code",
   "execution_count": 45,
   "metadata": {},
   "outputs": [],
   "source": [
    "class Node:\n",
    "    def __init__(self, info):\n",
    "        self.info = info;\n",
    "        \n",
    "        # Each node can have at most 2 childs.\n",
    "        self.right = None\n",
    "        self.left = None\n",
    "    \n",
    "    def __str__(self):\n",
    "        return str(self.info)\n",
    "    \n",
    "    def insert(self,data):\n",
    "        if self.info > data:\n",
    "            if self.right is None:\n",
    "                self.right = Node(data)\n",
    "            else:\n",
    "                # Se o nó estiver ocupado, recursivamente iremos buscar a posição ideal através dessa função.\n",
    "                self.right.insert(data)\n",
    "        \n",
    "        if self.info < data:\n",
    "            if self.left is None:\n",
    "                self.left = Node(data)\n",
    "            else:\n",
    "                self.left.insert(data)\n",
    "    \n",
    "    def pre_order_traverse(self, root):\n",
    "        if root:\n",
    "            self.pre_order_traverse(root.left)\n",
    "            print(root.info)\n",
    "            self.pre_order_traverse(root.right)\n",
    "            \n",
    "    \n",
    "    def post_order_traverse(self, root):\n",
    "        if root:\n",
    "            self.post_order_traverse(root.left)\n",
    "            self.post_order_traverse(root.right)\n",
    "            print(root.info)\n",
    "            \n",
    "    def in_order_traverse(self, root):\n",
    "        if root:\n",
    "            print(root.info)\n",
    "            self.in_order_traverse(root.left)\n",
    "            self.in_order_traverse(root.right)\n",
    "            \n",
    "        \n",
    "                "
   ]
  },
  {
   "cell_type": "code",
   "execution_count": 40,
   "metadata": {},
   "outputs": [],
   "source": [
    "root = Node(10)"
   ]
  },
  {
   "cell_type": "code",
   "execution_count": 41,
   "metadata": {},
   "outputs": [],
   "source": [
    "root.insert(12)\n",
    "root.insert(5)\n",
    "root.insert(2)\n",
    "root.insert(14)"
   ]
  },
  {
   "cell_type": "code",
   "execution_count": 42,
   "metadata": {},
   "outputs": [],
   "source": [
    "# Em uma árvore binária, o número máximo de nós em cada nível é 2.\n",
    "# A raíz é nível 0;\n",
    "# O número máximo de nós que uma árvore de um nível N pode ter é 2^N\n",
    "# Altura é a quantidade de nós no caminho até o nó de referência. Um nó com 1 filho tem altura = 1;"
   ]
  },
  {
   "cell_type": "code",
   "execution_count": 43,
   "metadata": {},
   "outputs": [
    {
     "name": "stdout",
     "output_type": "stream",
     "text": [
      "14\n",
      "12\n",
      "10\n",
      "5\n",
      "2\n"
     ]
    }
   ],
   "source": [
    "root.pre_order_traverse(root)"
   ]
  },
  {
   "cell_type": "code",
   "execution_count": 44,
   "metadata": {},
   "outputs": [
    {
     "name": "stdout",
     "output_type": "stream",
     "text": [
      "14\n",
      "12\n",
      "2\n",
      "5\n",
      "10\n"
     ]
    }
   ],
   "source": [
    "root.post_order_traverse(root)"
   ]
  },
  {
   "cell_type": "code",
   "execution_count": null,
   "metadata": {},
   "outputs": [],
   "source": []
  }
 ],
 "metadata": {
  "kernelspec": {
   "display_name": "Python 3",
   "language": "python",
   "name": "python3"
  },
  "language_info": {
   "codemirror_mode": {
    "name": "ipython",
    "version": 3
   },
   "file_extension": ".py",
   "mimetype": "text/x-python",
   "name": "python",
   "nbconvert_exporter": "python",
   "pygments_lexer": "ipython3",
   "version": "3.7.4"
  }
 },
 "nbformat": 4,
 "nbformat_minor": 2
}
